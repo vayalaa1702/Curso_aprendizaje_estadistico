{
  "cells": [
    {
      "cell_type": "code",
      "execution_count": null,
      "id": "7884b4e9",
      "metadata": {
        "deletable": false,
        "editable": false,
        "id": "7884b4e9"
      },
      "outputs": [],
      "source": [
        "# Initialize Otter\n",
        "#import otter\n",
        "#grader = otter.Notebook(\"Lab04_pandas.ipynb\")"
      ]
    },
    {
      "cell_type": "code",
      "execution_count": null,
      "id": "54e59a67",
      "metadata": {
        "id": "54e59a67"
      },
      "outputs": [],
      "source": [
        "#import otter\n",
        "import pandas as pd\n",
        "import numpy as np\n",
        "%matplotlib inline\n",
        "#import otter\n",
        "import matplotlib.pylab as plt\n",
        "#grader = otter.Notebook()\n"
      ]
    },
    {
      "cell_type": "markdown",
      "id": "4b277244",
      "metadata": {
        "deletable": false,
        "editable": false,
        "id": "4b277244"
      },
      "source": [
        "\n",
        "**Pregunta  1:** Para los planetas de nuestro sistema solar, construir una serie de pandas  `ds` con indice nombre del planeta y valor la distancia al sol en UA.\n",
        "\n",
        "Puedes intentanar generarlos con una IA, ejemplo de prompt:\n",
        "\n",
        "hint:\n",
        "`Generar un diccionario cuya clave es el nombre del planeta y valor la distancia al sol en UA`\n",
        "\n",
        "\n",
        "a. Acceder al valor de mercurio y almacenarlo en una variable llamada dM.\n",
        "\n",
        "b. Acceder al valor de Jupyter y almacenarlo en una variable llamada dJ.\n",
        "\n",
        "c. Generar una nueva serie con los planetas cuya distancia es menor a 10UA, almacenarla en s"
      ]
    },
    {
      "cell_type": "code",
      "execution_count": null,
      "id": "f7ad8961",
      "metadata": {
        "scrolled": true,
        "tags": [],
        "id": "f7ad8961",
        "outputId": "49d6738e-f40c-4932-ab60-c4fad8db4433"
      },
      "outputs": [
        {
          "data": {
            "text/plain": [
              "Ellipsis"
            ]
          },
          "execution_count": 3,
          "metadata": {},
          "output_type": "execute_result"
        }
      ],
      "source": [
        "\n",
        "ds = ...\n",
        "dM = ...\n",
        "dJ = ...\n",
        "s = ...\n",
        "ds"
      ]
    },
    {
      "cell_type": "code",
      "source": [
        "\n",
        "import pandas as pd\n",
        "sisolar={\"mercurio\":0.39, \"venus\":0.72, \"tierra\":1.00, \"marte\":1.52, \"jupiter\":5.20, \"saturno\":9.58, \"urano\":19.22, \"neptuno\":30.05}\n",
        "serie = pd.Series(sisolar)\n",
        "print(serie)\n",
        "\n",
        "dm = serie[\"mercurio\"]\n",
        "dj= serie[\"jupiter\"]\n",
        "s=serie[serie<10]\n",
        "\n",
        "print(dm)\n",
        "print(dj)\n",
        "print(s)"
      ],
      "metadata": {
        "colab": {
          "base_uri": "https://localhost:8080/"
        },
        "id": "znNz4S6_pMGM",
        "outputId": "773da309-da1d-451d-b8a5-e5d263257f96"
      },
      "id": "znNz4S6_pMGM",
      "execution_count": null,
      "outputs": [
        {
          "output_type": "stream",
          "name": "stdout",
          "text": [
            "mercurio     0.39\n",
            "venus        0.72\n",
            "tierra       1.00\n",
            "marte        1.52\n",
            "jupiter      5.20\n",
            "saturno      9.58\n",
            "urano       19.22\n",
            "neptuno     30.05\n",
            "dtype: float64\n",
            "0.39\n",
            "5.2\n",
            "mercurio    0.39\n",
            "venus       0.72\n",
            "tierra      1.00\n",
            "marte       1.52\n",
            "jupiter     5.20\n",
            "saturno     9.58\n",
            "dtype: float64\n"
          ]
        }
      ]
    },
    {
      "cell_type": "code",
      "execution_count": null,
      "id": "e81551aa",
      "metadata": {
        "deletable": false,
        "editable": false,
        "id": "e81551aa",
        "outputId": "2e475162-fda1-419d-8af6-d0d3fae99e43"
      },
      "outputs": [
        {
          "data": {
            "text/html": [
              "<p><strong style='color: red;'><pre style='display: inline;'>q1</pre> results:</strong></p><p><strong><pre style='display: inline;'>q1 - 1</pre> result:</strong></p><pre>    ❌ Test case failed\n",
              "    Trying:\n",
              "        isinstance(ds, pd.Series) == True\n",
              "    Expecting:\n",
              "        True\n",
              "    **********************************************************************\n",
              "    Line 1, in q1 0\n",
              "    Failed example:\n",
              "        isinstance(ds, pd.Series) == True\n",
              "    Expected:\n",
              "        True\n",
              "    Got:\n",
              "        False\n",
              "</pre><p><strong><pre style='display: inline;'>q1 - 2</pre> result:</strong></p><pre>    ❌ Test case failed\n",
              "    Trying:\n",
              "        np.isclose(dM, 0.39, rtol=0.001) == True\n",
              "    Expecting:\n",
              "        True\n",
              "    **********************************************************************\n",
              "    Line 1, in q1 1\n",
              "    Failed example:\n",
              "        np.isclose(dM, 0.39, rtol=0.001) == True\n",
              "    Exception raised:\n",
              "        Traceback (most recent call last):\n",
              "          File \"/Users/neuman/anaconda3/lib/python3.10/doctest.py\", line 1350, in __run\n",
              "            exec(compile(example.source, filename, \"single\",\n",
              "          File \"<doctest q1 1[0]>\", line 1, in <module>\n",
              "            np.isclose(dM, 0.39, rtol=0.001) == True\n",
              "          File \"<__array_function__ internals>\", line 180, in isclose\n",
              "          File \"/Users/neuman/anaconda3/lib/python3.10/site-packages/numpy/core/numeric.py\", line 2372, in isclose\n",
              "            xfin = isfinite(x)\n",
              "        TypeError: ufunc 'isfinite' not supported for the input types, and the inputs could not be safely coerced to any supported types according to the casting rule ''safe''\n",
              "</pre><p><strong><pre style='display: inline;'>q1 - 3</pre> result:</strong></p><pre>    ❌ Test case failed\n",
              "    Trying:\n",
              "        np.isclose(dJ, 5.2, rtol=0.001) == True\n",
              "    Expecting:\n",
              "        True\n",
              "    **********************************************************************\n",
              "    Line 1, in q1 2\n",
              "    Failed example:\n",
              "        np.isclose(dJ, 5.2, rtol=0.001) == True\n",
              "    Exception raised:\n",
              "        Traceback (most recent call last):\n",
              "          File \"/Users/neuman/anaconda3/lib/python3.10/doctest.py\", line 1350, in __run\n",
              "            exec(compile(example.source, filename, \"single\",\n",
              "          File \"<doctest q1 2[0]>\", line 1, in <module>\n",
              "            np.isclose(dJ, 5.2, rtol=0.001) == True\n",
              "          File \"<__array_function__ internals>\", line 180, in isclose\n",
              "          File \"/Users/neuman/anaconda3/lib/python3.10/site-packages/numpy/core/numeric.py\", line 2372, in isclose\n",
              "            xfin = isfinite(x)\n",
              "        TypeError: ufunc 'isfinite' not supported for the input types, and the inputs could not be safely coerced to any supported types according to the casting rule ''safe''\n",
              "</pre><p><strong><pre style='display: inline;'>q1 - 4</pre> result:</strong></p><pre>    ❌ Test case failed\n",
              "    Trying:\n",
              "        (len(ds) == 9) == True\n",
              "    Expecting:\n",
              "        True\n",
              "    **********************************************************************\n",
              "    Line 1, in q1 3\n",
              "    Failed example:\n",
              "        (len(ds) == 9) == True\n",
              "    Exception raised:\n",
              "        Traceback (most recent call last):\n",
              "          File \"/Users/neuman/anaconda3/lib/python3.10/doctest.py\", line 1350, in __run\n",
              "            exec(compile(example.source, filename, \"single\",\n",
              "          File \"<doctest q1 3[0]>\", line 1, in <module>\n",
              "            (len(ds) == 9) == True\n",
              "        TypeError: object of type 'ellipsis' has no len()\n",
              "</pre><p><strong><pre style='display: inline;'>q1 - 5</pre> result:</strong></p><pre>    ❌ Test case failed\n",
              "    Trying:\n",
              "        (len(s) == 6) == True\n",
              "    Expecting:\n",
              "        True\n",
              "    **********************************************************************\n",
              "    Line 1, in q1 4\n",
              "    Failed example:\n",
              "        (len(s) == 6) == True\n",
              "    Exception raised:\n",
              "        Traceback (most recent call last):\n",
              "          File \"/Users/neuman/anaconda3/lib/python3.10/doctest.py\", line 1350, in __run\n",
              "            exec(compile(example.source, filename, \"single\",\n",
              "          File \"<doctest q1 4[0]>\", line 1, in <module>\n",
              "            (len(s) == 6) == True\n",
              "        TypeError: object of type 'ellipsis' has no len()\n",
              "</pre>"
            ],
            "text/plain": [
              "q1 results:\n",
              "    q1 - 1 result:\n",
              "        ❌ Test case failed\n",
              "        Trying:\n",
              "            isinstance(ds, pd.Series) == True\n",
              "        Expecting:\n",
              "            True\n",
              "        **********************************************************************\n",
              "        Line 1, in q1 0\n",
              "        Failed example:\n",
              "            isinstance(ds, pd.Series) == True\n",
              "        Expected:\n",
              "            True\n",
              "        Got:\n",
              "            False\n",
              "\n",
              "    q1 - 2 result:\n",
              "        ❌ Test case failed\n",
              "        Trying:\n",
              "            np.isclose(dM, 0.39, rtol=0.001) == True\n",
              "        Expecting:\n",
              "            True\n",
              "        **********************************************************************\n",
              "        Line 1, in q1 1\n",
              "        Failed example:\n",
              "            np.isclose(dM, 0.39, rtol=0.001) == True\n",
              "        Exception raised:\n",
              "            Traceback (most recent call last):\n",
              "              File \"/Users/neuman/anaconda3/lib/python3.10/doctest.py\", line 1350, in __run\n",
              "                exec(compile(example.source, filename, \"single\",\n",
              "              File \"<doctest q1 1[0]>\", line 1, in <module>\n",
              "                np.isclose(dM, 0.39, rtol=0.001) == True\n",
              "              File \"<__array_function__ internals>\", line 180, in isclose\n",
              "              File \"/Users/neuman/anaconda3/lib/python3.10/site-packages/numpy/core/numeric.py\", line 2372, in isclose\n",
              "                xfin = isfinite(x)\n",
              "            TypeError: ufunc 'isfinite' not supported for the input types, and the inputs could not be safely coerced to any supported types according to the casting rule ''safe''\n",
              "\n",
              "    q1 - 3 result:\n",
              "        ❌ Test case failed\n",
              "        Trying:\n",
              "            np.isclose(dJ, 5.2, rtol=0.001) == True\n",
              "        Expecting:\n",
              "            True\n",
              "        **********************************************************************\n",
              "        Line 1, in q1 2\n",
              "        Failed example:\n",
              "            np.isclose(dJ, 5.2, rtol=0.001) == True\n",
              "        Exception raised:\n",
              "            Traceback (most recent call last):\n",
              "              File \"/Users/neuman/anaconda3/lib/python3.10/doctest.py\", line 1350, in __run\n",
              "                exec(compile(example.source, filename, \"single\",\n",
              "              File \"<doctest q1 2[0]>\", line 1, in <module>\n",
              "                np.isclose(dJ, 5.2, rtol=0.001) == True\n",
              "              File \"<__array_function__ internals>\", line 180, in isclose\n",
              "              File \"/Users/neuman/anaconda3/lib/python3.10/site-packages/numpy/core/numeric.py\", line 2372, in isclose\n",
              "                xfin = isfinite(x)\n",
              "            TypeError: ufunc 'isfinite' not supported for the input types, and the inputs could not be safely coerced to any supported types according to the casting rule ''safe''\n",
              "\n",
              "    q1 - 4 result:\n",
              "        ❌ Test case failed\n",
              "        Trying:\n",
              "            (len(ds) == 9) == True\n",
              "        Expecting:\n",
              "            True\n",
              "        **********************************************************************\n",
              "        Line 1, in q1 3\n",
              "        Failed example:\n",
              "            (len(ds) == 9) == True\n",
              "        Exception raised:\n",
              "            Traceback (most recent call last):\n",
              "              File \"/Users/neuman/anaconda3/lib/python3.10/doctest.py\", line 1350, in __run\n",
              "                exec(compile(example.source, filename, \"single\",\n",
              "              File \"<doctest q1 3[0]>\", line 1, in <module>\n",
              "                (len(ds) == 9) == True\n",
              "            TypeError: object of type 'ellipsis' has no len()\n",
              "\n",
              "    q1 - 5 result:\n",
              "        ❌ Test case failed\n",
              "        Trying:\n",
              "            (len(s) == 6) == True\n",
              "        Expecting:\n",
              "            True\n",
              "        **********************************************************************\n",
              "        Line 1, in q1 4\n",
              "        Failed example:\n",
              "            (len(s) == 6) == True\n",
              "        Exception raised:\n",
              "            Traceback (most recent call last):\n",
              "              File \"/Users/neuman/anaconda3/lib/python3.10/doctest.py\", line 1350, in __run\n",
              "                exec(compile(example.source, filename, \"single\",\n",
              "              File \"<doctest q1 4[0]>\", line 1, in <module>\n",
              "                (len(s) == 6) == True\n",
              "            TypeError: object of type 'ellipsis' has no len()"
            ]
          },
          "execution_count": 4,
          "metadata": {},
          "output_type": "execute_result"
        }
      ],
      "source": [
        "#grader.check(\"q1\")"
      ]
    },
    {
      "cell_type": "markdown",
      "id": "4e567884",
      "metadata": {
        "deletable": false,
        "editable": false,
        "id": "4e567884"
      },
      "source": [
        "**Pregunta 2:**\n",
        "\n",
        "a. Construir una serie de pandas  `dt`, con indice nombre del planeta y valor el periodo orbital en unidades de periodos terrestres.\n",
        "\n",
        "b. Construir un dataframe de  pandas `df` con la serie ds y la serie dt, los nombres de las columnas deberán ser:\n",
        " `DistanciaSolUA`, `PeriodoUT`, el indice debe ser el nombre del planeta\n"
      ]
    },
    {
      "cell_type": "code",
      "execution_count": null,
      "id": "e2660abf",
      "metadata": {
        "tags": [],
        "id": "e2660abf"
      },
      "outputs": [],
      "source": [
        "\n",
        "dt = ...\n",
        "df = ...\n",
        "df"
      ]
    },
    {
      "cell_type": "code",
      "execution_count": null,
      "id": "a1de9633",
      "metadata": {
        "deletable": false,
        "editable": false,
        "id": "a1de9633",
        "colab": {
          "base_uri": "https://localhost:8080/"
        },
        "outputId": "080ffcfd-8065-4f01-ebb4-49aa87ee44ad"
      },
      "outputs": [
        {
          "output_type": "stream",
          "name": "stdout",
          "text": [
            "mercurio      0.24\n",
            "venus         0.62\n",
            "tierra        1.00\n",
            "marte         1.88\n",
            "jupiter      11.86\n",
            "saturno      29.46\n",
            "urano        84.01\n",
            "neptuno     164.79\n",
            "dtype: float64\n",
            "          distancia al sol (UA)  Periodo (UT)\n",
            "mercurio                   0.39          0.24\n",
            "venus                      0.72          0.62\n",
            "tierra                     1.00          1.00\n",
            "marte                      1.52          1.88\n",
            "jupiter                    5.20         11.86\n",
            "saturno                    9.58         29.46\n",
            "urano                     19.22         84.01\n",
            "neptuno                   30.05        164.79\n"
          ]
        }
      ],
      "source": [
        "sisolarp={\"mercurio\":0.24, \"venus\":0.62, \"tierra\":1, \"marte\":1.88, \"jupiter\":11.86, \"saturno\":29.46, \"urano\":84.01, \"neptuno\":164.79}\n",
        "seriep=pd.Series(sisolarp)\n",
        "print(seriep)\n",
        "\n",
        "#2\n",
        "sisolar={\"mercurio\":0.39, \"venus\":0.72, \"tierra\":1.00, \"marte\":1.52, \"jupiter\":5.20, \"saturno\":9.58, \"urano\":19.22, \"neptuno\":30.05}\n",
        "serie = pd.Series(sisolar)\n",
        "\n",
        "sisolarp={\"mercurio\":0.24, \"venus\":0.62, \"tierra\":1, \"marte\":1.88, \"jupiter\":11.86, \"saturno\":29.46, \"urano\":84.01, \"neptuno\":164.79}\n",
        "seriep=pd.Series(sisolarp)\n",
        "\n",
        "data=pd.DataFrame({\"distancia al sol (UA)\":serie,\"Periodo (UT)\":seriep})\n",
        "print(data)\n",
        "\n",
        "\n",
        "\n",
        "\n"
      ]
    },
    {
      "cell_type": "markdown",
      "id": "613d9ffd",
      "metadata": {
        "deletable": false,
        "editable": false,
        "id": "613d9ffd"
      },
      "source": [
        "**Pregunta 3:** El dataset [Temperature_Bogota_Barcelona](https://github.com/hernansalinas/Curso_Metodos_Computacionales/blob/main/Entregas/Parciales/Parcial1/dataset/Temperature_Bogota_Barcelona.csv)\n",
        " contiene información de la temperatura (en grados Fahrenheit) promedio de Bogotá y Barcelona desde el año 1995. Para el presente dataset realizar lo siguiente:\n",
        "\n",
        "\n",
        " a. Leer el dataset desde el link sugerido.\n",
        "\n",
        " b. Eliminar las columnas Month,  day y Unnamed\n",
        "\n",
        " c. Adicionar una nueva columna llamada `AvgTempCelcius` con la temperatura en grados celcius. $ C=(F-32)/1.8$\n",
        "\n"
      ]
    },
    {
      "cell_type": "code",
      "source": [
        "import pandas as pd\n",
        "#Generar variable con la url\n",
        "url = \"https://raw.githubusercontent.com/hernansalinas/Curso_Metodos_Computacionales/main/Entregas/Parciales/Parcial1/dataset/Temperature_Bogota_Barcelona.csv\"\n",
        "\n",
        "#Leer el dataset y guardarlo en la variable df como dataframe\n",
        "df = pd.read_csv(url)\n",
        "print(\"DATAFRAME ORIGINAL\\n\\n\",df.head()) #.head() para obersvar una muestra del df\n",
        "\n",
        "print(\"--------------------------\")\n",
        "columnas_eliminar = [\"Month\",\"Day\",\"Unnamed: 0\"]\n",
        "\n",
        "df = df.drop(columnas_eliminar,axis=1) #Axis=1 es para eliminar columnas\n",
        "\n",
        "print(\"DATAFRAME DESPUÉS DE ELIMNINAR LAS COLUMNAS\\n\\n\",df.head())\n",
        "print(\"------------------------------\")\n",
        "\n",
        "df[\"AvgTempCelcius\"]=((df[\"AvgTemperature\"]-32)/1.8)\n",
        "\n",
        "print(\"DATAFRAME CON LA TEMPERATURA EN GRADOS CELCIUS\\n\\n\",df.head())\n"
      ],
      "metadata": {
        "colab": {
          "base_uri": "https://localhost:8080/"
        },
        "id": "jdlUILa0zSQp",
        "outputId": "feb88511-c922-4c42-950b-a3d13d1082cd"
      },
      "id": "jdlUILa0zSQp",
      "execution_count": null,
      "outputs": [
        {
          "output_type": "stream",
          "name": "stdout",
          "text": [
            "DATAFRAME ORIGINAL\n",
            "\n",
            "    Unnamed: 0  Year       City     Month        Day  AvgTemperature\n",
            "0           0  1995  Barcelona  6.526027  15.720548       62.019178\n",
            "1           1  1995     Bogota  6.526027  15.720548       54.963014\n",
            "2           2  1996  Barcelona  6.513661  15.756831       61.125956\n",
            "3           3  1996     Bogota  6.513661  15.756831       55.083333\n",
            "4           4  1997  Barcelona  6.526027  15.720548       62.612329\n",
            "--------------------------\n",
            "DATAFRAME DESPUÉS DE ELIMNINAR LAS COLUMNAS\n",
            "\n",
            "    Year       City  AvgTemperature\n",
            "0  1995  Barcelona       62.019178\n",
            "1  1995     Bogota       54.963014\n",
            "2  1996  Barcelona       61.125956\n",
            "3  1996     Bogota       55.083333\n",
            "4  1997  Barcelona       62.612329\n",
            "------------------------------\n",
            "DATAFRAME CON LA TEMPERATURA EN GRADOS CELCIUS\n",
            "\n",
            "    Year       City  AvgTemperature  AvgTempCelcius\n",
            "0  1995  Barcelona       62.019178       16.677321\n",
            "1  1995     Bogota       54.963014       12.757230\n",
            "2  1996  Barcelona       61.125956       16.181087\n",
            "3  1996     Bogota       55.083333       12.824074\n",
            "4  1997  Barcelona       62.612329       17.006849\n"
          ]
        }
      ]
    },
    {
      "cell_type": "code",
      "execution_count": null,
      "id": "b7bcb919",
      "metadata": {
        "tags": [],
        "id": "b7bcb919"
      },
      "outputs": [],
      "source": [
        "df = ...\n",
        "...\n",
        "...\n",
        "\n",
        "df"
      ]
    },
    {
      "cell_type": "code",
      "execution_count": null,
      "id": "f12bfc8c",
      "metadata": {
        "deletable": false,
        "editable": false,
        "id": "f12bfc8c"
      },
      "outputs": [],
      "source": [
        "grader.check(\"q3\")"
      ]
    },
    {
      "cell_type": "markdown",
      "id": "1f332ce9",
      "metadata": {
        "deletable": false,
        "editable": false,
        "id": "1f332ce9"
      },
      "source": [
        "**Pregunta 4** Para el miso data set anterior realizar lo siguiente:\n",
        "\n",
        " a. Crear un nuevo data frame llamado df1, con los valores de temperatura de bogota que sean menores que 20 °C.\n",
        " b. Crear un nuevo data frame llamado df2, con los valores de temperatura de Barcelona que este entre 10 °C y 20 °C"
      ]
    },
    {
      "cell_type": "code",
      "execution_count": null,
      "id": "0204302a",
      "metadata": {
        "tags": [],
        "id": "0204302a",
        "colab": {
          "base_uri": "https://localhost:8080/"
        },
        "outputId": "0779ae63-9e46-4d35-b6ce-172dd0805bc2"
      },
      "outputs": [
        {
          "output_type": "stream",
          "name": "stdout",
          "text": [
            "DATAFRAME 1\n",
            "\n",
            "    Year    City  AvgTemperature  AvgTempCelcius\n",
            "1  1995  Bogota       54.963014       12.757230\n",
            "3  1996  Bogota       55.083333       12.824074\n",
            "5  1997  Bogota       56.231507       13.461948\n",
            "7  1998  Bogota       49.642466        9.801370\n",
            "9  1999  Bogota       52.231781       11.239878\n",
            "------------------------------\n",
            "DATAFRAME 2\n",
            "\n",
            "    Year       City  AvgTemperature  AvgTempCelcius\n",
            "0  1995  Barcelona       62.019178       16.677321\n",
            "2  1996  Barcelona       61.125956       16.181087\n",
            "4  1997  Barcelona       62.612329       17.006849\n",
            "6  1998  Barcelona       60.273973       15.707763\n",
            "8  1999  Barcelona       61.204658       16.224810\n"
          ]
        }
      ],
      "source": [
        "df1 = df[(df[\"City\"] == \"Bogota\") & (df[\"AvgTempCelcius\"] < 20)]\n",
        "\n",
        "df2 = df[(df[\"City\"] == \"Barcelona\") & (df[\"AvgTempCelcius\"] >= 10) & (df[\"AvgTempCelcius\"] <= 20)]\n",
        "\n",
        "\n",
        "print(\"DATAFRAME 1\\n\\n\",df1.head())\n",
        "print(\"------------------------------\")\n",
        "print(\"DATAFRAME 2\\n\\n\",df2.head())"
      ]
    },
    {
      "cell_type": "code",
      "execution_count": null,
      "id": "7eb87239",
      "metadata": {
        "deletable": false,
        "editable": false,
        "id": "7eb87239"
      },
      "outputs": [],
      "source": [
        "grader.check(\"q4\")"
      ]
    },
    {
      "cell_type": "markdown",
      "id": "c46289e4",
      "metadata": {
        "deletable": false,
        "editable": false,
        "id": "c46289e4"
      },
      "source": [
        "<!-- BEGIN QUESTION -->\n",
        "\n",
        "**Pregunta  5** Para el data set df, con todos los valores de Bogota y Barcelona, realizar en misma figura lo siguiente, recuerda poner las unidades y etiquetas respectivas :\n",
        "\n",
        " d. Gráfico de AvgTempCelcius como función del año para la ciudad de Bogotá.\n",
        "\n",
        " e. Gráfico AvgTempCelcius como funcion del año para la ciudad de Barcelona."
      ]
    },
    {
      "cell_type": "code",
      "source": [
        "import matplotlib.pyplot as plt"
      ],
      "metadata": {
        "id": "Y9aJIJ8ptsK4"
      },
      "id": "Y9aJIJ8ptsK4",
      "execution_count": null,
      "outputs": []
    },
    {
      "cell_type": "code",
      "execution_count": null,
      "id": "e887d483",
      "metadata": {
        "tags": [],
        "id": "e887d483",
        "colab": {
          "base_uri": "https://localhost:8080/",
          "height": 574
        },
        "outputId": "8395c9cd-0e07-476e-c55d-3cf1335d76a6"
      },
      "outputs": [
        {
          "output_type": "display_data",
          "data": {
            "text/plain": [
              "<Figure size 1800x600 with 1 Axes>"
            ],
            "image/png": "[encoded data removed]"
          },
          "metadata": {}
        }
      ],
      "source": [
        "df_bogota = df[df[\"City\"] == \"Bogota\"]\n",
        "\n",
        "df_barcelona = df[df[\"City\"] == \"Barcelona\"]\n",
        "\n",
        "plt.figure(figsize=(6*3,4*1.5))\n",
        "\n",
        "plt.plot(df_bogota[\"Year\"],df_bogota[\"AvgTempCelcius\"], \"o\",label=\"Bogotá\")\n",
        "plt.plot(df_barcelona[\"Year\"],df_barcelona[\"AvgTempCelcius\"], \"o\",label=\"Barcelona\")\n",
        "plt.title(\"Temperatura promedio en función del año para Bogotá y Barcelona\",size=15)\n",
        "plt.xlabel(\"Año\",size=15)\n",
        "plt.ylabel(\"Temperatura promedio [°Celcius]\",size=15)\n",
        "plt.grid(ls=\"--\")\n",
        "plt.legend();"
      ]
    },
    {
      "cell_type": "markdown",
      "id": "8c071261",
      "metadata": {
        "deletable": false,
        "editable": false,
        "id": "8c071261"
      },
      "source": [
        "<!-- END QUESTION -->\n",
        "\n",
        "<!-- BEGIN QUESTION -->\n",
        "\n",
        "**Pregunta 5:** ¿Qué puede inferir del gráfico?"
      ]
    },
    {
      "cell_type": "markdown",
      "id": "ed74d09d",
      "metadata": {
        "id": "ed74d09d"
      },
      "source": [
        "_Type your answer here, replacing this text._"
      ]
    },
    {
      "cell_type": "markdown",
      "id": "7251a5c2",
      "metadata": {
        "deletable": false,
        "editable": false,
        "id": "7251a5c2"
      },
      "source": [
        "<!-- END QUESTION -->\n",
        "\n"
      ]
    },
    {
      "cell_type": "markdown",
      "id": "bebaffd4",
      "metadata": {
        "deletable": false,
        "editable": false,
        "id": "bebaffd4"
      },
      "source": [
        "## Submission\n",
        "\n",
        "Make sure you have run all cells in your notebook in order before running the cell below, so that all images/graphs appear in the output. The cell below will generate a zip file for you to submit. **Please save before exporting!**\n",
        "\n",
        "These are some submission instructions."
      ]
    },
    {
      "cell_type": "code",
      "execution_count": null,
      "id": "2e413d42",
      "metadata": {
        "deletable": false,
        "editable": false,
        "id": "2e413d42"
      },
      "outputs": [],
      "source": [
        "# Save your notebook first, then run this cell to export your submission.\n",
        "grader.export(run_tests=True)"
      ]
    },
    {
      "cell_type": "markdown",
      "id": "78fb8c36",
      "metadata": {
        "id": "78fb8c36"
      },
      "source": []
    }
  ],
  "metadata": {
    "kernelspec": {
      "display_name": "Python 3 (ipykernel)",
      "language": "python",
      "name": "python3"
    },
    "language_info": {
      "codemirror_mode": {
        "name": "ipython",
        "version": 3
      },
      "file_extension": ".py",
      "mimetype": "text/x-python",
      "name": "python",
      "nbconvert_exporter": "python",
      "pygments_lexer": "ipython3",
      "version": "3.10.9"
    },
    "otter": {
      "OK_FORMAT": true,
      "tests": {
        "q1": {
          "name": "q1",
          "points": null,
          "suites": [
            {
              "cases": [
                {
                  "code": ">>> isinstance(ds, pd.Series) == True\nTrue",
                  "hidden": false,
                  "locked": false
                },
                {
                  "code": ">>> np.isclose(dM, 0.39, rtol=0.001) == True\nTrue",
                  "hidden": false,
                  "locked": false
                },
                {
                  "code": ">>> np.isclose(dJ, 5.2, rtol=0.001) == True\nTrue",
                  "hidden": false,
                  "locked": false
                },
                {
                  "code": ">>> (len(ds) == 9) == True\nTrue",
                  "hidden": false,
                  "locked": false
                },
                {
                  "code": ">>> (len(s) == 6) == True\nTrue",
                  "hidden": false,
                  "locked": false
                }
              ],
              "scored": true,
              "setup": "",
              "teardown": "",
              "type": "doctest"
            }
          ]
        },
        "q2": {
          "name": "q2",
          "points": null,
          "suites": [
            {
              "cases": [
                {
                  "code": ">>> isinstance(dt, pd.Series) == True\nTrue",
                  "hidden": false,
                  "locked": false
                },
                {
                  "code": ">>> (df.columns == ['DistanciaSolUA', 'PerdiodoUT']).sum() == 2\nTrue",
                  "hidden": false,
                  "locked": false
                },
                {
                  "code": ">>> (df.index == ['Mercurio', 'Venus', 'Tierra', 'Marte', 'Jupiter', 'Saturno', 'Urano', 'Neptuno', 'Pluton']).sum() == 9\nTrue",
                  "hidden": false,
                  "locked": false
                }
              ],
              "scored": true,
              "setup": "",
              "teardown": "",
              "type": "doctest"
            }
          ]
        },
        "q3": {
          "name": "q3",
          "points": null,
          "suites": [
            {
              "cases": [
                {
                  "code": ">>> (df.columns.sort_values() == ['AvgTempCelcius', 'AvgTemperature', 'City', 'Year']).sum() == 4\nTrue",
                  "hidden": false,
                  "locked": false
                },
                {
                  "code": ">>> np.isclose(df['AvgTempCelcius'].mean(), 14.566, rtol=0.001) == True\nTrue",
                  "hidden": false,
                  "locked": false
                }
              ],
              "scored": true,
              "setup": "",
              "teardown": "",
              "type": "doctest"
            }
          ]
        },
        "q4": {
          "name": "q4",
          "points": null,
          "suites": [
            {
              "cases": [
                {
                  "code": ">>> np.isclose(df1.AvgTempCelcius.mean(), 12.9515, rtol=0.0001) == True\nTrue",
                  "hidden": false,
                  "locked": false
                },
                {
                  "code": ">>> np.isclose(df2.AvgTempCelcius.mean(), 16.1818, rtol=0.0001) == True\nTrue",
                  "hidden": false,
                  "locked": false
                }
              ],
              "scored": true,
              "setup": "",
              "teardown": "",
              "type": "doctest"
            }
          ]
        }
      }
    },
    "colab": {
      "provenance": []
    }
  },
  "nbformat": 4,
  "nbformat_minor": 5
}