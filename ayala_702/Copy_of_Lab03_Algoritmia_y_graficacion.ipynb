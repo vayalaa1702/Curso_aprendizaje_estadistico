{
  "cells": [
    {
      "cell_type": "markdown",
      "metadata": {
        "id": "GrhlCVr1lS7o"
      },
      "source": [
        "<a href=\"https://colab.research.google.com/github/hernansalinas/autogrades/blob/main/Laboratorios_Taller/Lab03_Algoritmia_y_graficacion.ipynb\" target=\"_parent\"><img src=\"https://colab.research.google.com/assets/colab-badge.svg\" alt=\"Open In Colab\"/></a>"
      ]
    },
    {
      "cell_type": "markdown",
      "metadata": {
        "id": "SkZguDaDeyAZ"
      },
      "source": [
        "# Laboratorio 03\n",
        "\n",
        "\n",
        "1.0 Caos numérico en un mapa logístico y errores de punto flotante (Errores de redondeo)\n",
        "\n",
        "> Un ejemplo clásico de caos,  es el comportamiento no lineal en las interaciones de un mapa logístico\n",
        "\n",
        "\\begin{equation}\n",
        "x_{n+1}=f(x_n)=rx_n(1-x_n)\n",
        "\\end{equation}\n",
        "\n",
        "> con $x\\in (0,1)$ y $r\\in(0,4)$ se pueden producir varios comportamientos sorprendentes.\n",
        "\n",
        "Para este problema, será extremadamente útil  ver sus resultados gráficamente; construya listas de números y llame la libreria matplotlib.\n",
        "\n",
        "\n",
        "> ### Problema:\n",
        "a. Programar la ecuación para el mapa logístico, y  realizar una grafica del valor de xn como funcion de n.\n",
        "\n",
        "b. Realizar pruebas para un $x_0=0.5$, con valores de r\n",
        "\n",
        "```\n",
        "  r = np.array([1.9, 2.9, 3.1, 3.5, 3.9,4.0])\n",
        "  numpoints = 100, # Numero sugerido de iteraciones\n",
        "  x0 = 0.5\n",
        "```\n",
        "\n",
        "Organizar las gráficas [multiples plot](https://matplotlib.org/stable/gallery/subplots_axes_and_figures/subplots_demo.html)\n",
        "\n",
        "\n",
        "\n",
        "c. Construye una rutina llamada logist_map en que entrada el valor de r, la condiciones inicial xi y el número de puntos determine la evolución en el punto N.  Prueba implementado las siguientes lineas.\n",
        "\n",
        "```\n",
        "Np = 1000\n",
        "xf = np.zeros(Np)\n",
        "r  = np.linspace(2.5, 4, Np)\n",
        "\n",
        "for i in range(0, Np):\n",
        "  xini = np.random.random()\n",
        "  x_i = logist_map(r = r[i], xi = xini, N = 1000)\n",
        "  xf[i] = x_i\n",
        "```\n",
        "\n",
        "\n",
        "d. Realiza un gráfico de:\n",
        "```\n",
        "  plt.plot((r-1/r), xf,  \".\", markersize = 0.5)\n",
        "```\n",
        "\n",
        "\n",
        "e. Encontrar dos formas adicionales de expresar $f(x)$, para estos valores funcionales determinar las mismas gráficas del numeral 3 para cada uno de las formas de escribir la expresión. En este caso se espera que los resultados varien. ¿A que se debe esto?. Consulta algunas fuentes para responder a la pregunta.\n",
        "\n",
        "\n",
        "Ref: https://www.youtube.com/watch?v=EOvLhZPevm0&t=104s\n"
      ]
    },
    {
      "cell_type": "code",
      "source": [
        "#mapa logistico\n",
        "# la variable independiente es la n y la variable dependiente es la X_n, por lo tanto en el eje horizontal estara n y en el eje vertical estara X_n\n",
        "\n",
        "\n",
        "import numpy as np\n",
        "import matplotlib.pyplot as plt\n",
        "\n",
        "def mapa_logistico(r,x0,n):\n",
        "    x=np.zeros(n)\n",
        "    for i in range (0,n):\n",
        "        xn=r*x0*(1-x0)\n",
        "        x[i]=x0\n",
        "        x0=xn\n",
        "    return x"
      ],
      "metadata": {
        "id": "7CzI5HwMZSzq"
      },
      "execution_count": null,
      "outputs": []
    },
    {
      "cell_type": "markdown",
      "metadata": {
        "id": "GkaL0-AQVQ4x"
      },
      "source": [
        "2. El mapa de Hénon es un sistema dinámico discreto en el tiempo que se define por las siguientes ecuaciones:\n",
        "\n",
        "$$x_{n+1} = 1 - ax_n^2 + y_n$$\n",
        "$$y_{n+1} = bx_n$$\n",
        "\n",
        "Donde $x_n$ y $y_n$ son las coordenadas de un punto en el plano, y $a$ y $b$ son dos parámetros que controlan el comportamiento del mapa. El mapa de Hénon es uno de los ejemplos más estudiados de sistemas dinámicos que muestran comportamiento caótico, es decir, una gran sensibilidad a las condiciones iniciales y una estructura fractal.\n",
        "\n",
        "El mapa de Hénon fue introducido por Michel Hénon como un modelo simplificado de la sección de Poincaré del modelo de Lorenz, que es otro sistema dinámico caótico que describe la convección atmosférica². Para los valores clásicos del mapa de Hénon, que son $a = 1.4$ y $b = 0.3$, un punto inicial del plano se acercará a un conjunto de puntos conocido como el atractor extraño de Hénon, o divergirá al infinito. El atractor de Hénon es una curva suave en una dirección y un conjunto de Cantor en otra.\n",
        "\n",
        "Su tarea será:\n",
        "1. Construir una gráfica de xn como función de N\n",
        "2. Construir una gráfica de yn como función de N\n",
        "3. Construir una gráfica de xn, yn.\n",
        "4. Para b=0.3, construir una curva de xn como función de a, con a entre 0, 1\n",
        "\n",
        "\n",
        "Reto, con tu codigo, reproducir los fractales mostrados en esta página https://blbadger.github.io/henon-map.html"
      ]
    },
    {
      "cell_type": "code",
      "source": [
        "import matplotlib.pyplot as plt\n",
        "import numpy as np\n",
        "\n",
        "def mapa_henon (a,b,x0,y0,n):\n",
        "    x=np.zeros(n)\n",
        "    y=np.zeros(n)\n",
        "    for i in range(n):\n",
        "        xn= 1 - a* (x0)**2 + y0\n",
        "        yn=b * y0\n",
        "        x[i]=x0\n",
        "        y[i]=y0\n",
        "        y0=yn\n",
        "        x0=xn\n",
        "    return x,y\n",
        "\n",
        "resultado=mapa_henon(1.4,0.3,3,3,3)\n",
        "print (resultado)\n",
        "\n",
        "\n",
        "#grafica de xn en funcion de n\n",
        "\n",
        "lista0=[]\n",
        "for i in range (0,n+1):\n",
        "  x_1=mapa_henon(a,b,x0,y0,n)\n",
        "  lista0.append(x_1)\n",
        "\n",
        "\n",
        "plt.xlabel(\"n\")\n",
        "plt.ylabel(\"x0\")\n",
        "plt.title(\"grafica de x0 en de y0\")\n",
        "plt.show\n",
        "\n",
        "\n",
        "\n"
      ],
      "metadata": {
        "id": "lU3yyE0dYy3M",
        "outputId": "05988294-a219-4e11-935c-467dcb5c5fda",
        "colab": {
          "base_uri": "https://localhost:8080/",
          "height": 228
        }
      },
      "execution_count": null,
      "outputs": [
        {
          "output_type": "stream",
          "name": "stdout",
          "text": [
            "(array([   3.   ,   -8.6  , -101.644]), array([3.  , 0.9 , 0.27]))\n"
          ]
        },
        {
          "output_type": "error",
          "ename": "NameError",
          "evalue": "name 'n' is not defined",
          "traceback": [
            "\u001b[0;31m---------------------------------------------------------------------------\u001b[0m",
            "\u001b[0;31mNameError\u001b[0m                                 Traceback (most recent call last)",
            "\u001b[0;32m<ipython-input-10-58a955fa1edc>\u001b[0m in \u001b[0;36m<cell line: 23>\u001b[0;34m()\u001b[0m\n\u001b[1;32m     21\u001b[0m \u001b[0;34m\u001b[0m\u001b[0m\n\u001b[1;32m     22\u001b[0m \u001b[0mlista0\u001b[0m\u001b[0;34m=\u001b[0m\u001b[0;34m[\u001b[0m\u001b[0;34m]\u001b[0m\u001b[0;34m\u001b[0m\u001b[0;34m\u001b[0m\u001b[0m\n\u001b[0;32m---> 23\u001b[0;31m \u001b[0;32mfor\u001b[0m \u001b[0mi\u001b[0m \u001b[0;32min\u001b[0m \u001b[0mrange\u001b[0m \u001b[0;34m(\u001b[0m\u001b[0;36m0\u001b[0m\u001b[0;34m,\u001b[0m\u001b[0mn\u001b[0m\u001b[0;34m+\u001b[0m\u001b[0;36m1\u001b[0m\u001b[0;34m)\u001b[0m\u001b[0;34m:\u001b[0m\u001b[0;34m\u001b[0m\u001b[0;34m\u001b[0m\u001b[0m\n\u001b[0m\u001b[1;32m     24\u001b[0m   \u001b[0mx_1\u001b[0m\u001b[0;34m=\u001b[0m\u001b[0mmapa_henon\u001b[0m\u001b[0;34m(\u001b[0m\u001b[0ma\u001b[0m\u001b[0;34m,\u001b[0m\u001b[0mb\u001b[0m\u001b[0;34m,\u001b[0m\u001b[0mx0\u001b[0m\u001b[0;34m,\u001b[0m\u001b[0my0\u001b[0m\u001b[0;34m,\u001b[0m\u001b[0mn\u001b[0m\u001b[0;34m)\u001b[0m\u001b[0;34m\u001b[0m\u001b[0;34m\u001b[0m\u001b[0m\n\u001b[1;32m     25\u001b[0m   \u001b[0mlista0\u001b[0m\u001b[0;34m.\u001b[0m\u001b[0mappend\u001b[0m\u001b[0;34m(\u001b[0m\u001b[0mx_1\u001b[0m\u001b[0;34m)\u001b[0m\u001b[0;34m\u001b[0m\u001b[0;34m\u001b[0m\u001b[0m\n",
            "\u001b[0;31mNameError\u001b[0m: name 'n' is not defined"
          ]
        }
      ]
    },
    {
      "cell_type": "markdown",
      "metadata": {
        "id": "TfAf3lDVfD1d"
      },
      "source": [
        "\n",
        "\n"
      ]
    },
    {
      "cell_type": "markdown",
      "metadata": {
        "id": "3X1VWZyEhjaM"
      },
      "source": [
        "3.0 El algoritmo de gradiente descendente permite encontrar el mínimo de funciones en espacios multidimensionales proponiendo puntos en la dirección en la que el gradiente desciende. Para el caso de una dimensión, podemos encontrar el mínimo realizando iteraciones y multiplicando su derivada en cada nuevo punto por una constante $\\alpha$\n",
        "\n",
        "\\begin{equation}\n",
        "x_{i+1}=x_i - \\alpha \\frac{\\mathrm{d}f}{\\mathrm{d}x}(x_i)\n",
        "\\end{equation}\n",
        "\n",
        "\n",
        "Ejemplo:\n",
        "\n",
        "Sea $f(\\omega) = (\\omega-1)^2$ , con $\\omega \\in \\mathbb{R} $. El minimo de esta función esta determinado por\n",
        "\\begin{equation}\n",
        "\\frac{\\mathrm{d}f}{\\mathrm{d}\\omega} = 0\n",
        "\\end{equation}\n",
        "\n",
        "\\begin{equation}\n",
        "\\omega = 1\n",
        "\\end{equation}\n",
        "\n",
        "\n",
        "Para determinar el minimo,  a través del gradiente descendente puede ser aplicada el siguiente algoritmo:\n",
        "1. Proponer un número aleatorios inicial $\\omega_i$\n",
        "2. Para descender al mínimo de la función, encontremos un  valor para el cual\n",
        "la derivada de la función descenciende, asi:\n",
        "\\begin{equation}\n",
        "\\omega_{i+1} = \\omega_{i} - \\alpha \\frac{\\mathrm{d}f(\\omega_i)}{\\mathrm{d}\\omega}\n",
        "\\end{equation}\n",
        "\n",
        "donde, $\\alpha$ es conocido como la tasa de aprendizaje del algoritmo.\n",
        "\n",
        "3. Evaluar $f(\\omega_{i+1})$\n",
        "\n",
        "4. Iterar hasta encontrar el minimo de la función\n",
        "\n",
        "\n",
        "En el caso de la funcion propuesta, asumiendo un valor de $\\alpha=1$, tenemos que:\n",
        "\n",
        "1. Supongamos que $\\omega_{0} = 2$, luego :\n",
        "2. $\\omega_{0+1} = 2 - 1 f'(\\omega_{0}) =  = 0$\n",
        "3. $f(0) = 1$\n",
        "4. $\\omega_{1+1} = 0 - 1 f'(\\omega_{1}) = 0-1(2(0-1)) =  2$\n",
        "\n",
        "El valor del $\\omega$  despues de un par de iteraciones, no es el esperado, por que no minimiza la función, se debe proponer un tasa de aprendizaje  **$\\alpha$** de tal forma que permita descender suavemente para encontrar el minimo.\n",
        "\n",
        "\n",
        "\n",
        "**Su tarea será**:\n",
        "\n",
        "1. Disenar un programa, en el que entrada la función y su derivada, definidas como funciones lambda de python, se determine el valor mínimo de esa función.\n",
        "Prueba tu algoritmo para  la función $f(x) = x^2$\n",
        "\n",
        "2. Realiza el grafico de la funcion y la derivada, especifica la leyenda de cada curva empleando el metodo legend() de matplotlib.\n",
        "  \n",
        "\n",
        "3. Analiza como se minimiza la función, gráficando de la funcion en cada punto a iterar,  como funcion del numero de iteraciones. Para dos valores diferentes de la constante alpha (prueba con $\\alpha=0.1$, $\\alpha=0.01$)\n"
      ]
    },
    {
      "cell_type": "code",
      "source": [
        "import numpy as np\n",
        "import matplotlib.pyplot as plt\n",
        "\n",
        "#1\n",
        "funcion=lambda x:x**2\n",
        "derivada=lambda x:2*x\n",
        "\n",
        "def gradiente (funcion,derivada,a,w0,n):\n",
        "    w=np.zeros(n)\n",
        "    for i in range(n):\n",
        "        der= derivada(w0)\n",
        "        wn=(w0) - a *der\n",
        "        w[i]=wn\n",
        "        w0=wn\n",
        "    return wn\n",
        "\n",
        "\n",
        "#2\n",
        "resultado=gradiente(funcion,derivada,1,2,2)\n",
        "print(resultado)\n",
        "\n",
        "#grafica de la funcion\n",
        "x_p=np.linspace(-5,5,100) #x para evaluar en la funcion\n",
        "y_f=funcion(x_p) #evaluar todos los puntos en la funcion\n",
        "y_d=derivada(x_p)\n",
        "\n",
        "plt.plot(x_p,y_f,label=\"funcion\")\n",
        "plt.plot(x_p,y_d,label=\"derivada\")\n",
        "plt.ylabel(\"Y\")\n",
        "plt.xlabel(\"X\")\n",
        "plt.legend()\n",
        "plt.show\n",
        "\n",
        "#3 para este punto hay que actualizar el valor de la funcion en cada iteracion y guardarlo\n",
        "\n",
        "def gradiente (funcion,derivada,a,w0,n):\n",
        "    w=np.zeros(n)\n",
        "    f=np.zeros(n)\n",
        "    for i in range(n):\n",
        "        der= derivada(w0)\n",
        "        wn=(w0) - a *der\n",
        "        w[i]=wn\n",
        "        f[i]=funcion(w0)\n",
        "        w0=wn\n",
        "    return w,f\n",
        "\n",
        "w, f = gradiente(funcion,derivada,0.1,2,4)\n",
        "\n",
        "plt.plot(w,f,\"*--r\")\n",
        "plt.xlabel(\"X\")\n",
        "plt.ylabel(\"y\")\n",
        "plt.title(\"la funcion en cada iteracion\")\n",
        "plt.show()\n"
      ],
      "metadata": {
        "colab": {
          "base_uri": "https://localhost:8080/",
          "height": 489
        },
        "id": "BbCVosXiGelM",
        "outputId": "b9c28e31-7ba5-4f3e-f59b-80a02876f37c"
      },
      "execution_count": 25,
      "outputs": [
        {
          "output_type": "stream",
          "name": "stdout",
          "text": [
            "2\n"
          ]
        },
        {
          "output_type": "display_data",
          "data": {
            "text/plain": [
              "<Figure size 640x480 with 1 Axes>"
            ],
            "image/png": "[encoded data removed]"
          },
          "metadata": {}
        }
      ]
    },
    {
      "cell_type": "code",
      "source": [],
      "metadata": {
        "id": "c6MylR8Nc3kT"
      },
      "execution_count": null,
      "outputs": []
    }
  ],
  "metadata": {
    "colab": {
      "provenance": []
    },
    "kernelspec": {
      "display_name": "Python 3 (ipykernel)",
      "language": "python",
      "name": "python3"
    },
    "language_info": {
      "codemirror_mode": {
        "name": "ipython",
        "version": 3
      },
      "file_extension": ".py",
      "mimetype": "text/x-python",
      "name": "python",
      "nbconvert_exporter": "python",
      "pygments_lexer": "ipython3",
      "version": "3.10.9"
    }
  },
  "nbformat": 4,
  "nbformat_minor": 0
}